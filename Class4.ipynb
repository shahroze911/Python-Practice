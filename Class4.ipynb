{
 "cells": [
  {
   "cell_type": "code",
   "execution_count": 1,
   "metadata": {},
   "outputs": [
    {
     "name": "stdout",
     "output_type": "stream",
     "text": [
      "******************************\n",
      "Ali\n",
      "35000\n",
      "Software Engineer\n",
      "******************************\n",
      "Talha\n",
      "55000\n",
      "Product Manager\n",
      "******************************\n",
      "Nasir\n",
      "79000\n",
      "Computer Engineer\n",
      "******************************\n",
      "Khalid\n",
      "44000\n",
      "DBA\n"
     ]
    }
   ],
   "source": [
    "employeeData = [[\"Ali\", 35000, \"Software Engineer\"],\n",
    "\t\t\t\t[\"Talha\", 55000, \"Product Manager\"],\n",
    "\t\t\t\t[\"Nasir\", 79000, \"Computer Engineer\"],\n",
    "\t\t\t\t[\"Khalid\", 44000, \"DBA\"]]\n",
    "for employee in employeeData:\n",
    "    print(\"*\"*30)\n",
    "    for e in employee:\n",
    "        print(e)"
   ]
  },
  {
   "cell_type": "code",
   "execution_count": 11,
   "metadata": {},
   "outputs": [
    {
     "name": "stdout",
     "output_type": "stream",
     "text": [
      "1\n",
      "2\n",
      "3\n",
      "4\n",
      "5\n",
      "6\n"
     ]
    }
   ],
   "source": [
    "\n",
    "for num in range(1,7):\n",
    "    print(num)"
   ]
  },
  {
   "cell_type": "code",
   "execution_count": 3,
   "metadata": {},
   "outputs": [
    {
     "data": {
      "text/plain": [
       "[1, 2, 3, 4, 5, 6, 7, 8, 9, 10]"
      ]
     },
     "execution_count": 3,
     "metadata": {},
     "output_type": "execute_result"
    }
   ],
   "source": [
    "list(range(1,11))"
   ]
  },
  {
   "cell_type": "code",
   "execution_count": 6,
   "metadata": {},
   "outputs": [
    {
     "name": "stdout",
     "output_type": "stream",
     "text": [
      "How many Values1\n",
      "Enter your Name: Shahroze\n",
      "Enter your EMail: s@gmail.com\n",
      "Enter your Hobbies: a,b\n"
     ]
    }
   ],
   "source": [
    "dataset=[]\n",
    "iteration=int(input(\"How many Values\"))\n",
    "for i in range(iteration):\n",
    "    name=input(\"Enter your Name: \")\n",
    "    email=input(\"Enter your EMail: \")\n",
    "    hobbies=input(\"Enter your Hobbies: \")\n",
    "    hobbies=hobbies.split(\",\")    \n",
    "    dataset.append([name,email,hobbies])"
   ]
  },
  {
   "cell_type": "code",
   "execution_count": 7,
   "metadata": {},
   "outputs": [
    {
     "data": {
      "text/plain": [
       "[['Shahroze', 's@gmail.com', ['a', 'b']]]"
      ]
     },
     "execution_count": 7,
     "metadata": {},
     "output_type": "execute_result"
    }
   ],
   "source": [
    "dataset"
   ]
  },
  {
   "cell_type": "markdown",
   "metadata": {},
   "source": [
    "# Dictionary\n",
    ". dictionary is a key value pair:[key:value]\n",
    ". there cannot be list in key"
   ]
  },
  {
   "cell_type": "code",
   "execution_count": 10,
   "metadata": {},
   "outputs": [
    {
     "name": "stdout",
     "output_type": "stream",
     "text": [
      "<class 'dict'>\n",
      "{'Name': 'Waqas', 'Age': 27, 'Gender': 'Male', 'Salary': 35000}\n"
     ]
    }
   ],
   "source": [
    "'''\n",
    "employee1=[[\"Name\",\"Age\",\"Gender\",\"Salary\"],\n",
    "           ['waqas',27,'Male',35000]]\n",
    "'''           \n",
    "employee={\"Name\":\"Waqas\",\"Age\":27,\"Gender\":\"Male\",\"Salary\":35000}\n",
    "print(type(employee))\n",
    "print(employee)"
   ]
  },
  {
   "cell_type": "code",
   "execution_count": 12,
   "metadata": {},
   "outputs": [
    {
     "data": {
      "text/plain": [
       "'Waqas'"
      ]
     },
     "execution_count": 12,
     "metadata": {},
     "output_type": "execute_result"
    }
   ],
   "source": [
    "# in dictionary there is key while in list index matter\n",
    "# list is ordered and dictionary is unordered\n",
    "# there is no insert method in dict\n",
    "# there is no repition of key in dict\n",
    "# list ko key ni bna skte\n",
    "# dict ki key mein list r dict ni aa skti\n",
    "# key can't be updatable but can be removed\n",
    "employee[\"Name\"]"
   ]
  },
  {
   "cell_type": "code",
   "execution_count": 13,
   "metadata": {},
   "outputs": [
    {
     "data": {
      "text/plain": [
       "{'Name': 'M. Waqas', 'Age': 27, 'Gender': 'Male', 'Salary': 35000}"
      ]
     },
     "execution_count": 13,
     "metadata": {},
     "output_type": "execute_result"
    }
   ],
   "source": [
    "employee[\"Name\"]=\"M. Waqas\"\n",
    "employee"
   ]
  },
  {
   "cell_type": "code",
   "execution_count": 17,
   "metadata": {},
   "outputs": [],
   "source": [
    "employee[\"Location\"]=\"FSD\""
   ]
  },
  {
   "cell_type": "code",
   "execution_count": 18,
   "metadata": {},
   "outputs": [
    {
     "data": {
      "text/plain": [
       "{'Name': 'M. Waqas',\n",
       " 'Age': 27,\n",
       " 'Gender': 'Male',\n",
       " 'Salary': 35000,\n",
       " 0: 'FSD',\n",
       " 'Location': 'FSD'}"
      ]
     },
     "execution_count": 18,
     "metadata": {},
     "output_type": "execute_result"
    }
   ],
   "source": [
    "employee"
   ]
  },
  {
   "cell_type": "code",
   "execution_count": 19,
   "metadata": {},
   "outputs": [],
   "source": [
    "del employee[0]"
   ]
  },
  {
   "cell_type": "code",
   "execution_count": 20,
   "metadata": {},
   "outputs": [
    {
     "data": {
      "text/plain": [
       "{'Name': 'M. Waqas',\n",
       " 'Age': 27,\n",
       " 'Gender': 'Male',\n",
       " 'Salary': 35000,\n",
       " 'Location': 'FSD'}"
      ]
     },
     "execution_count": 20,
     "metadata": {},
     "output_type": "execute_result"
    }
   ],
   "source": [
    "employee\n"
   ]
  },
  {
   "cell_type": "code",
   "execution_count": 22,
   "metadata": {},
   "outputs": [
    {
     "data": {
      "text/plain": [
       "{'Name': 'M. Waqas',\n",
       " 'Age': 27,\n",
       " 'Gender': 'Male',\n",
       " 'Salary': 35000,\n",
       " 'Location': 'FSD',\n",
       " 'Department': ['Finance', 'D.S']}"
      ]
     },
     "execution_count": 22,
     "metadata": {},
     "output_type": "execute_result"
    }
   ],
   "source": [
    "employee[\"Department\"]=[\"Finance\",\"D.S\"]\n",
    "employee"
   ]
  },
  {
   "cell_type": "code",
   "execution_count": 24,
   "metadata": {},
   "outputs": [
    {
     "data": {
      "text/plain": [
       "{'Name': 'M. Waqas',\n",
       " 'Age': 27,\n",
       " 'Gender': 'Male',\n",
       " 'Salary': 35000,\n",
       " 'Location': 'FSD',\n",
       " 'Department': ['Finance', 'D.S'],\n",
       " 'subordinate': {'Fin': 'Shahzad', 'D.S': 'Noman'}}"
      ]
     },
     "execution_count": 24,
     "metadata": {},
     "output_type": "execute_result"
    }
   ],
   "source": [
    "employee[\"subordinate\"]={\"Fin\":\"Shahzad\",\"D.S\":\"Noman\"}\n",
    "employee"
   ]
  },
  {
   "cell_type": "code",
   "execution_count": 25,
   "metadata": {},
   "outputs": [
    {
     "data": {
      "text/plain": [
       "{'Name': 'M. Waqas',\n",
       " 'Age': 27,\n",
       " 'Gender': 'Male',\n",
       " 'Salary': 35000,\n",
       " 'Location': 'FSD',\n",
       " 'Department': ['Finance', 'D.S'],\n",
       " 'subordinate': {'Fin': 'Shahzad', 'D.S': 'Noman'},\n",
       " (1, 2): 7}"
      ]
     },
     "execution_count": 25,
     "metadata": {},
     "output_type": "execute_result"
    }
   ],
   "source": [
    "# tuple's value can't be changed\n",
    "# Tuple in dict's tuple\n",
    "employee[(1,2)]=7\n",
    "employee"
   ]
  },
  {
   "cell_type": "code",
   "execution_count": 26,
   "metadata": {},
   "outputs": [],
   "source": [
    "employee1=employee"
   ]
  },
  {
   "cell_type": "code",
   "execution_count": 27,
   "metadata": {},
   "outputs": [
    {
     "data": {
      "text/plain": [
       "{'Name': 'M. Waqas',\n",
       " 'Age': 27,\n",
       " 'Gender': 'Male',\n",
       " 'Salary': 35000,\n",
       " 'Location': 'FSD',\n",
       " 'Department': ['Finance', 'D.S'],\n",
       " 'subordinate': {'Fin': 'Shahzad', 'D.S': 'Noman'},\n",
       " (1, 2): 7}"
      ]
     },
     "execution_count": 27,
     "metadata": {},
     "output_type": "execute_result"
    }
   ],
   "source": [
    "employee1"
   ]
  },
  {
   "cell_type": "code",
   "execution_count": 28,
   "metadata": {},
   "outputs": [
    {
     "data": {
      "text/plain": [
       "{'Name': 'M. Waqas',\n",
       " 'Age': 27,\n",
       " 'Gender': 'Male',\n",
       " 'Salary': 35000,\n",
       " 'Location': 'FSD',\n",
       " 'Department': ['Finance', 'D.S'],\n",
       " 'subordinate': {'Fin': 'Shahzad', 'D.S': 'Noman'},\n",
       " (1, 2): 7}"
      ]
     },
     "execution_count": 28,
     "metadata": {},
     "output_type": "execute_result"
    }
   ],
   "source": [
    "employee2=employee\n",
    "employee2"
   ]
  },
  {
   "cell_type": "code",
   "execution_count": 29,
   "metadata": {},
   "outputs": [
    {
     "data": {
      "text/plain": [
       "[{'Name': 'M. Waqas',\n",
       "  'Age': 27,\n",
       "  'Gender': 'Male',\n",
       "  'Salary': 35000,\n",
       "  'Location': 'FSD',\n",
       "  'Department': ['Finance', 'D.S'],\n",
       "  'subordinate': {'Fin': 'Shahzad', 'D.S': 'Noman'},\n",
       "  (1, 2): 7},\n",
       " {'Name': 'M. Waqas',\n",
       "  'Age': 27,\n",
       "  'Gender': 'Male',\n",
       "  'Salary': 35000,\n",
       "  'Location': 'FSD',\n",
       "  'Department': ['Finance', 'D.S'],\n",
       "  'subordinate': {'Fin': 'Shahzad', 'D.S': 'Noman'},\n",
       "  (1, 2): 7}]"
      ]
     },
     "execution_count": 29,
     "metadata": {},
     "output_type": "execute_result"
    }
   ],
   "source": [
    "employees=[employee1]\n",
    "employees.append(employee2)\n",
    "employees\n"
   ]
  },
  {
   "cell_type": "code",
   "execution_count": 30,
   "metadata": {},
   "outputs": [
    {
     "data": {
      "text/plain": [
       "'D.S'"
      ]
     },
     "execution_count": 30,
     "metadata": {},
     "output_type": "execute_result"
    }
   ],
   "source": [
    "employees[0][\"Department\"][1]"
   ]
  },
  {
   "cell_type": "code",
   "execution_count": 36,
   "metadata": {},
   "outputs": [
    {
     "name": "stdout",
     "output_type": "stream",
     "text": [
      "Name\n",
      "Age\n",
      "Gender\n",
      "Salary\n",
      "Location\n",
      "Department\n",
      "subordinate\n",
      "(1, 2)\n",
      "Name M. Waqas\n",
      "Age 27\n",
      "Gender Male\n",
      "Salary 35000\n",
      "Location FSD\n",
      "Department ['Finance', 'D.S']\n",
      "subordinate {'Fin': 'Shahzad', 'D.S': 'Noman'}\n",
      "(1, 2) 7\n",
      "Name\n",
      "Age\n",
      "Gender\n",
      "Salary\n",
      "Location\n",
      "Department\n",
      "subordinate\n",
      "(1, 2)\n",
      "M. Waqas\n",
      "27\n",
      "Male\n",
      "35000\n",
      "FSD\n",
      "['Finance', 'D.S']\n",
      "{'Fin': 'Shahzad', 'D.S': 'Noman'}\n",
      "7\n"
     ]
    }
   ],
   "source": [
    "for i in employee1:\n",
    "    print(i)\n",
    "for i in employee1:\n",
    "    print(i,employee2[i])"
   ]
  },
  {
   "cell_type": "code",
   "execution_count": 37,
   "metadata": {},
   "outputs": [
    {
     "name": "stdout",
     "output_type": "stream",
     "text": [
      "('Name', 'M. Waqas')\n",
      "('Age', 27)\n",
      "('Gender', 'Male')\n",
      "('Salary', 35000)\n",
      "('Location', 'FSD')\n",
      "('Department', ['Finance', 'D.S'])\n",
      "('subordinate', {'Fin': 'Shahzad', 'D.S': 'Noman'})\n",
      "((1, 2), 7)\n"
     ]
    }
   ],
   "source": [
    "for i in employee1.items():\n",
    "    print(i)    "
   ]
  },
  {
   "cell_type": "code",
   "execution_count": 38,
   "metadata": {},
   "outputs": [
    {
     "name": "stdout",
     "output_type": "stream",
     "text": [
      "M. Waqas\n",
      "27\n",
      "Male\n",
      "35000\n",
      "FSD\n",
      "['Finance', 'D.S']\n",
      "{'Fin': 'Shahzad', 'D.S': 'Noman'}\n",
      "7\n"
     ]
    }
   ],
   "source": [
    "for i in employee1.values():\n",
    "    print(i)"
   ]
  },
  {
   "cell_type": "code",
   "execution_count": 39,
   "metadata": {},
   "outputs": [
    {
     "name": "stdout",
     "output_type": "stream",
     "text": [
      "Name\n",
      "Age\n",
      "Gender\n",
      "Salary\n",
      "Location\n",
      "Department\n",
      "subordinate\n",
      "(1, 2)\n"
     ]
    }
   ],
   "source": [
    "for i in employee1.keys():\n",
    "    print(i)"
   ]
  },
  {
   "cell_type": "code",
   "execution_count": 42,
   "metadata": {},
   "outputs": [
    {
     "name": "stdout",
     "output_type": "stream",
     "text": [
      "Name M. Waqas\n",
      "Age 27\n",
      "Gender Male\n",
      "Salary 35000\n",
      "Location FSD\n",
      "Department ['Finance', 'D.S']\n",
      "subordinate {'Fin': 'Shahzad', 'D.S': 'Noman'}\n",
      "(1, 2) 7\n"
     ]
    }
   ],
   "source": [
    "for i,j in employee1.items():\n",
    "    print(i,j)"
   ]
  },
  {
   "cell_type": "code",
   "execution_count": 43,
   "metadata": {},
   "outputs": [
    {
     "data": {
      "text/plain": [
       "'Noman'"
      ]
     },
     "execution_count": 43,
     "metadata": {},
     "output_type": "execute_result"
    }
   ],
   "source": [
    "employees[1][\"subordinate\"][\"D.S\"]"
   ]
  },
  {
   "cell_type": "code",
   "execution_count": 44,
   "metadata": {},
   "outputs": [],
   "source": [
    "employees[0]['Department'].append(\"A.I\")"
   ]
  },
  {
   "cell_type": "code",
   "execution_count": 45,
   "metadata": {},
   "outputs": [
    {
     "data": {
      "text/plain": [
       "[{'Name': 'M. Waqas',\n",
       "  'Age': 27,\n",
       "  'Gender': 'Male',\n",
       "  'Salary': 35000,\n",
       "  'Location': 'FSD',\n",
       "  'Department': ['Finance', 'D.S', 'A.I'],\n",
       "  'subordinate': {'Fin': 'Shahzad', 'D.S': 'Noman'},\n",
       "  (1, 2): 7},\n",
       " {'Name': 'M. Waqas',\n",
       "  'Age': 27,\n",
       "  'Gender': 'Male',\n",
       "  'Salary': 35000,\n",
       "  'Location': 'FSD',\n",
       "  'Department': ['Finance', 'D.S', 'A.I'],\n",
       "  'subordinate': {'Fin': 'Shahzad', 'D.S': 'Noman'},\n",
       "  (1, 2): 7}]"
      ]
     },
     "execution_count": 45,
     "metadata": {},
     "output_type": "execute_result"
    }
   ],
   "source": [
    "employees"
   ]
  },
  {
   "cell_type": "code",
   "execution_count": 1,
   "metadata": {},
   "outputs": [
    {
     "name": "stdout",
     "output_type": "stream",
     "text": [
      "How many records you want to Store: 2\n",
      "Enter your Name: 1\n",
      "Enter your Age: 1\n",
      "Your Working Department: 1\n",
      "Your Skills: 1\n",
      "Enter your Degree Details: \n",
      "Enter Degree Title: 1\n",
      "Enter Major: 1\n",
      "Enter Completion Date: 1\n",
      "Enter your Salary: 1\n",
      "--------------------------------------------------\n",
      "Enter your Name: 2\n",
      "Enter your Age: 2\n",
      "Your Working Department: 2\n",
      "Your Skills: 2\n",
      "Enter your Degree Details: \n",
      "Enter Degree Title: 2\n",
      "Enter Major: 2\n",
      "Enter Completion Date: 2\n",
      "Enter your Salary: 2\n",
      "--------------------------------------------------\n"
     ]
    },
    {
     "data": {
      "text/plain": [
       "[{'Name': '2',\n",
       "  'Age': 2,\n",
       "  'Work': '2',\n",
       "  'Skills': ['2'],\n",
       "  'Degree': {'Title': '2', 'Major': '2', 'Completion Date': '2'},\n",
       "  'Salary': '2'},\n",
       " {'Name': '2',\n",
       "  'Age': 2,\n",
       "  'Work': '2',\n",
       "  'Skills': ['2'],\n",
       "  'Degree': {'Title': '2', 'Major': '2', 'Completion Date': '2'},\n",
       "  'Salary': '2'}]"
      ]
     },
     "execution_count": 1,
     "metadata": {},
     "output_type": "execute_result"
    }
   ],
   "source": [
    "employee={}\n",
    "employeesData=[]\n",
    "degree={}\n",
    "values=int(input(\"How many records you want to Store: \"))\n",
    "for i in range(values):\n",
    "    name = input(\"Enter your Name: \")\n",
    "    employee[\"Name\"]=name\n",
    "    age = int(input(\"Enter your Age: \"))\n",
    "    employee[\"Age\"]=age\n",
    "    workingDepartment = input(\"Your Working Department: \")\n",
    "    employee[\"Work\"] = workingDepartment\n",
    "    skills = input(\"Your Skills: \").split(\",\")\n",
    "    employee[\"Skills\"] = skills\n",
    "    print(\"Enter your Degree Details: \")\n",
    "    degree[\"Title\"]=input(\"Enter Degree Title: \")\n",
    "    degree[\"Major\"] = input(\"Enter Major: \")\n",
    "    degree[\"Completion Date\"] = input(\"Enter Completion Date: \")\n",
    "    employee[\"Degree\"]=degree\n",
    "    salary = input(\"Enter your Salary: \")\n",
    "    employee[\"Salary\"] = salary\n",
    "    employeesData.append(employee)\n",
    "    print(\"-\"*50)\n",
    "employeesData"
   ]
  },
  {
   "cell_type": "code",
   "execution_count": 7,
   "metadata": {},
   "outputs": [
    {
     "name": "stdout",
     "output_type": "stream",
     "text": [
      "Enter Completion Date: 1-2-20\n"
     ]
    },
    {
     "ename": "TypeError",
     "evalue": "function missing required argument 'year' (pos 1)",
     "output_type": "error",
     "traceback": [
      "\u001b[1;31m---------------------------------------------------------------------------\u001b[0m",
      "\u001b[1;31mTypeError\u001b[0m                                 Traceback (most recent call last)",
      "\u001b[1;32m<ipython-input-7-c32d952ea2be>\u001b[0m in \u001b[0;36m<module>\u001b[1;34m\u001b[0m\n\u001b[0;32m      1\u001b[0m \u001b[1;32mimport\u001b[0m \u001b[0mdatetime\u001b[0m\u001b[1;33m\u001b[0m\u001b[1;33m\u001b[0m\u001b[0m\n\u001b[0;32m      2\u001b[0m \u001b[0mdate\u001b[0m\u001b[1;33m=\u001b[0m\u001b[0minput\u001b[0m\u001b[1;33m(\u001b[0m\u001b[1;34m\"Enter Completion Date: \"\u001b[0m\u001b[1;33m)\u001b[0m\u001b[1;33m\u001b[0m\u001b[1;33m\u001b[0m\u001b[0m\n\u001b[1;32m----> 3\u001b[1;33m \u001b[0mdate\u001b[0m\u001b[1;33m=\u001b[0m\u001b[0mdatetime\u001b[0m\u001b[1;33m.\u001b[0m\u001b[0mdatetime\u001b[0m\u001b[1;33m(\u001b[0m\u001b[1;33m)\u001b[0m\u001b[1;33m\u001b[0m\u001b[1;33m\u001b[0m\u001b[0m\n\u001b[0m\u001b[0;32m      4\u001b[0m \u001b[0mprint\u001b[0m\u001b[1;33m(\u001b[0m\u001b[0mdate\u001b[0m\u001b[1;33m.\u001b[0m\u001b[0mstrftime\u001b[0m\u001b[1;33m(\u001b[0m\u001b[1;34m\"%B\"\u001b[0m\u001b[1;33m)\u001b[0m\u001b[1;33m)\u001b[0m\u001b[1;33m\u001b[0m\u001b[1;33m\u001b[0m\u001b[0m\n",
      "\u001b[1;31mTypeError\u001b[0m: function missing required argument 'year' (pos 1)"
     ]
    }
   ],
   "source": [
    "import datetime\n",
    "date=input(\"Enter Completion Date: \")\n",
    "date=datetime.datetime()\n",
    "print(date.strftime(\"%B\"))\n"
   ]
  },
  {
   "cell_type": "code",
   "execution_count": 5,
   "metadata": {},
   "outputs": [
    {
     "name": "stdout",
     "output_type": "stream",
     "text": [
      "Starting Table: 5\n",
      "Ending Table: 7\n",
      "5 * 1 = 5\n",
      "5 * 2 = 10\n",
      "5 * 3 = 15\n",
      "5 * 4 = 20\n",
      "5 * 5 = 25\n",
      "5 * 6 = 30\n",
      "5 * 7 = 35\n",
      "5 * 8 = 40\n",
      "5 * 9 = 45\n",
      "5 * 10 = 50\n",
      "********************\n",
      "6 * 1 = 6\n",
      "6 * 2 = 12\n",
      "6 * 3 = 18\n",
      "6 * 4 = 24\n",
      "6 * 5 = 30\n",
      "6 * 6 = 36\n",
      "6 * 7 = 42\n",
      "6 * 8 = 48\n",
      "6 * 9 = 54\n",
      "6 * 10 = 60\n",
      "********************\n",
      "7 * 1 = 7\n",
      "7 * 2 = 14\n",
      "7 * 3 = 21\n",
      "7 * 4 = 28\n",
      "7 * 5 = 35\n",
      "7 * 6 = 42\n",
      "7 * 7 = 49\n",
      "7 * 8 = 56\n",
      "7 * 9 = 63\n",
      "7 * 10 = 70\n",
      "********************\n"
     ]
    }
   ],
   "source": [
    "x=int(input(\"Starting Table: \"))\n",
    "y=int(input(\"Ending Table: \"))\n",
    "for i in range(x,y+1):\n",
    "    for j in range(1, 11):\n",
    "        n = i * j\n",
    "        x=i\n",
    "        print(x, \"*\", j, \"=\", n)\n",
    "    print(\"*\"*20)\n",
    "\n",
    "\n",
    "\n",
    "\n",
    "\n"
   ]
  },
  {
   "cell_type": "code",
   "execution_count": null,
   "metadata": {},
   "outputs": [],
   "source": []
  }
 ],
 "metadata": {
  "kernelspec": {
   "display_name": "Python 3",
   "language": "python",
   "name": "python3"
  },
  "language_info": {
   "codemirror_mode": {
    "name": "ipython",
    "version": 3
   },
   "file_extension": ".py",
   "mimetype": "text/x-python",
   "name": "python",
   "nbconvert_exporter": "python",
   "pygments_lexer": "ipython3",
   "version": "3.7.4"
  }
 },
 "nbformat": 4,
 "nbformat_minor": 2
}
