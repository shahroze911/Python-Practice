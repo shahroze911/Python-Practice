{
 "cells": [
  {
   "cell_type": "code",
   "execution_count": 2,
   "metadata": {},
   "outputs": [
    {
     "name": "stdout",
     "output_type": "stream",
     "text": [
      "Enter your Name: shahroze kamran sahotra\n",
      "Enter your Age: 21\n",
      "Enter your Class: artificial intelligence\n",
      "Enter your University: fast university\n",
      "Hello Shahroze Kamran Sahotra \n",
      "Your application is accepted for Artificial Intelligence in FAST UNIVERSITY\n"
     ]
    }
   ],
   "source": [
    "name=input(\"Enter your Name: \")\n",
    "if name.islower():\n",
    "    name=name.title()\n",
    "age=int(input(\"Enter your Age: \"))\n",
    "_class=input(\"Enter your Class: \")\n",
    "if _class.islower() :\n",
    "    _class=_class.title()            \n",
    "university=input(\"Enter your University: \")\n",
    "if university.islower():\n",
    "    university=university.upper()\n",
    "message=\"\"\"Hello {_name} \n",
    "Your application is accepted for {__class} in {_university}\"\"\".format(__class=_class,_name=name,_university=university)\n",
    "print(message)\n",
    "\n",
    "\n",
    "\n"
   ]
  },
  {
   "cell_type": "code",
   "execution_count": null,
   "metadata": {},
   "outputs": [],
   "source": [
    "name=\"SKS\"\n",
    "#dir(name)\n",
    "#Shift+Tab for variable description\n",
    "#name.[Press Tab]-> Available Method Names\n",
    "\n",
    "\n",
    "\n",
    "\n"
   ]
  },
  {
   "cell_type": "code",
   "execution_count": null,
   "metadata": {},
   "outputs": [],
   "source": []
  },
  {
   "cell_type": "code",
   "execution_count": null,
   "metadata": {},
   "outputs": [],
   "source": []
  },
  {
   "cell_type": "code",
   "execution_count": null,
   "metadata": {},
   "outputs": [],
   "source": []
  },
  {
   "cell_type": "code",
   "execution_count": null,
   "metadata": {},
   "outputs": [],
   "source": []
  },
  {
   "cell_type": "code",
   "execution_count": null,
   "metadata": {},
   "outputs": [],
   "source": []
  },
  {
   "cell_type": "code",
   "execution_count": null,
   "metadata": {},
   "outputs": [],
   "source": []
  }
 ],
 "metadata": {
  "kernelspec": {
   "display_name": "Python 3",
   "language": "python",
   "name": "python3"
  },
  "language_info": {
   "codemirror_mode": {
    "name": "ipython",
    "version": 3
   },
   "file_extension": ".py",
   "mimetype": "text/x-python",
   "name": "python",
   "nbconvert_exporter": "python",
   "pygments_lexer": "ipython3",
   "version": "3.7.4"
  }
 },
 "nbformat": 4,
 "nbformat_minor": 2
}
