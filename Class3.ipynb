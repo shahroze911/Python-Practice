{
 "cells": [
  {
   "cell_type": "code",
   "execution_count": 27,
   "metadata": {},
   "outputs": [
    {
     "name": "stdout",
     "output_type": "stream",
     "text": [
      "['A', 'B', 'C', 'D', 'E']\n",
      "['A', 'B', 'C', 'D', 'E', 'F']\n",
      "['A', 'B', 'BB', 'C', 'D', 'E', 'F']\n",
      "['B', 'BB', 'C', 'D', 'E', 'F']\n"
     ]
    },
    {
     "data": {
      "text/plain": [
       "6"
      ]
     },
     "execution_count": 27,
     "metadata": {},
     "output_type": "execute_result"
    }
   ],
   "source": [
    "employee=[\"A\",\"B\",\"C\",\"D\",\"E\"]\n",
    "print(employee)\n",
    "employee[-5]\n",
    "employee.append(\"F\")\n",
    "print(employee)\n",
    "employee.insert(2,\"BB\")\n",
    "print(employee)\n",
    "employee[-7]=\"A A\"\n",
    "employee\n",
    "del employee[0]\n",
    "print(employee)\n"
   ]
  },
  {
   "cell_type": "code",
   "execution_count": 30,
   "metadata": {},
   "outputs": [
    {
     "data": {
      "text/plain": [
       "0"
      ]
     },
     "execution_count": 30,
     "metadata": {},
     "output_type": "execute_result"
    }
   ],
   "source": [
    "employee.index(\"B\")\n",
    "    \n"
   ]
  },
  {
   "cell_type": "code",
   "execution_count": 29,
   "metadata": {},
   "outputs": [
    {
     "data": {
      "text/plain": [
       "6"
      ]
     },
     "execution_count": 29,
     "metadata": {},
     "output_type": "execute_result"
    }
   ],
   "source": [
    "len(employee)"
   ]
  },
  {
   "cell_type": "code",
   "execution_count": 31,
   "metadata": {},
   "outputs": [
    {
     "data": {
      "text/plain": [
       "['B', 'C', 'D', 'E', 'F']"
      ]
     },
     "execution_count": 31,
     "metadata": {},
     "output_type": "execute_result"
    }
   ],
   "source": [
    "employee.remove(\"BB\")\n",
    "employee"
   ]
  },
  {
   "cell_type": "markdown",
   "metadata": {},
   "source": [
    "# List of lists\n",
    "\n",
    "    "
   ]
  },
  {
   "cell_type": "code",
   "execution_count": 48,
   "metadata": {},
   "outputs": [
    {
     "name": "stdout",
     "output_type": "stream",
     "text": [
      "[['Yasir', 22, 'Male'], ['Shah', 20, 'Male']]\n",
      "[['Yasir', 22, 'Male'], ['Shah', 20, 'Male'], ['Hamza', 22, 'Male'], ['Ali', 24, 'Male']]\n",
      "['Shah', 20, 'Male']\n",
      "22\n"
     ]
    },
    {
     "data": {
      "text/plain": [
       "['Hamza', 22, 'Male', 20000]"
      ]
     },
     "execution_count": 48,
     "metadata": {},
     "output_type": "execute_result"
    }
   ],
   "source": [
    "employee1=[\"Yasir\",22,\"Male\"]\n",
    "employee2=[\"Shah\",20,\"Male\"]\n",
    "employees=[employee1,employee2]\n",
    "print(employees)\n",
    "employees=[employee1,employee2,[\"Hamza\",25,\"Male\"],[\"Ali\",24,\"Male\"]]\n",
    "print(employees)\n",
    "print(employees[1])\n",
    "print(employees[0][1])\n",
    "employees[0][1]+employees[1][1]+employees[2][1]+employees[3][1]\n",
    "employees[2].append(20000)\n",
    "employees[2]\n",
    "\n",
    "\n"
   ]
  },
  {
   "cell_type": "markdown",
   "metadata": {},
   "source": [
    "# For Loops\n"
   ]
  },
  {
   "cell_type": "code",
   "execution_count": 62,
   "metadata": {},
   "outputs": [
    {
     "data": {
      "text/plain": [
       "88"
      ]
     },
     "execution_count": 62,
     "metadata": {},
     "output_type": "execute_result"
    }
   ],
   "source": [
    "\n",
    "total_hours=0\n",
    "for listt in employees:\n",
    "    total_hours+=listt[1]\n",
    "total_hours\n"
   ]
  },
  {
   "cell_type": "code",
   "execution_count": 86,
   "metadata": {},
   "outputs": [
    {
     "name": "stdout",
     "output_type": "stream",
     "text": [
      "Yasir\n",
      "Shah\n",
      "Hamza\n",
      "Ali\n"
     ]
    }
   ],
   "source": [
    "for listt in employees:    \n",
    "    print(listt[0])    \n"
   ]
  },
  {
   "cell_type": "markdown",
   "metadata": {},
   "source": [
    "# Slicing"
   ]
  },
  {
   "cell_type": "code",
   "execution_count": 98,
   "metadata": {},
   "outputs": [],
   "source": [
    "employee1=[\"Yasir\",22,\"Male\"]\n",
    "employee1.append(\"AI Eng\")\n",
    "employee1.append(300000)"
   ]
  },
  {
   "cell_type": "code",
   "execution_count": 99,
   "metadata": {},
   "outputs": [
    {
     "data": {
      "text/plain": [
       "['Yasir', 22, 'Male', 'AI Eng', 300000]"
      ]
     },
     "execution_count": 99,
     "metadata": {},
     "output_type": "execute_result"
    }
   ],
   "source": [
    "employee1"
   ]
  },
  {
   "cell_type": "code",
   "execution_count": 107,
   "metadata": {},
   "outputs": [
    {
     "name": "stdout",
     "output_type": "stream",
     "text": [
      "[22, 'Male', 'AI Eng']\n",
      "[22, 'Male', 'AI Eng', 300000]\n",
      "['Yasir', 22, 'Male']\n"
     ]
    },
    {
     "data": {
      "text/plain": [
       "[22]"
      ]
     },
     "execution_count": 107,
     "metadata": {},
     "output_type": "execute_result"
    }
   ],
   "source": [
    "i=1\n",
    "print(employee1[1:3+i])\n",
    "print(employee1[1:])\n",
    "print(employee1[:3])\n",
    "employee1[:]\n",
    "# Step Slicing\n",
    "employee1[1:4:3]\n"
   ]
  },
  {
   "cell_type": "code",
   "execution_count": 111,
   "metadata": {},
   "outputs": [],
   "source": [
    "a=employees[0].pop(4)"
   ]
  },
  {
   "cell_type": "code",
   "execution_count": 115,
   "metadata": {},
   "outputs": [
    {
     "name": "stdout",
     "output_type": "stream",
     "text": [
      "300000\n"
     ]
    },
    {
     "data": {
      "text/plain": [
       "['Yasir', 22, 'Male', 300000, 'AI Eng', 300000]"
      ]
     },
     "execution_count": 115,
     "metadata": {},
     "output_type": "execute_result"
    }
   ],
   "source": [
    "print(a)\n",
    "employees[0]"
   ]
  },
  {
   "cell_type": "markdown",
   "metadata": {},
   "source": [
    "# Conditional Statements\n",
    "# Comparision Operators\n"
   ]
  },
  {
   "cell_type": "code",
   "execution_count": 117,
   "metadata": {},
   "outputs": [
    {
     "data": {
      "text/plain": [
       "True"
      ]
     },
     "execution_count": 117,
     "metadata": {},
     "output_type": "execute_result"
    }
   ],
   "source": [
    "d=2==2\n",
    "d"
   ]
  },
  {
   "cell_type": "code",
   "execution_count": 118,
   "metadata": {},
   "outputs": [
    {
     "data": {
      "text/plain": [
       "False"
      ]
     },
     "execution_count": 118,
     "metadata": {},
     "output_type": "execute_result"
    }
   ],
   "source": [
    "d=2==3\n",
    "d"
   ]
  },
  {
   "cell_type": "code",
   "execution_count": 120,
   "metadata": {},
   "outputs": [
    {
     "data": {
      "text/plain": [
       "str"
      ]
     },
     "execution_count": 120,
     "metadata": {},
     "output_type": "execute_result"
    }
   ],
   "source": [
    "h=\"Type\"\n",
    "type(h)"
   ]
  },
  {
   "cell_type": "code",
   "execution_count": 121,
   "metadata": {},
   "outputs": [
    {
     "data": {
      "text/plain": [
       "bool"
      ]
     },
     "execution_count": 121,
     "metadata": {},
     "output_type": "execute_result"
    }
   ],
   "source": [
    "h=True\n",
    "type(h)"
   ]
  },
  {
   "cell_type": "code",
   "execution_count": 139,
   "metadata": {},
   "outputs": [
    {
     "name": "stdout",
     "output_type": "stream",
     "text": [
      "Shah\n"
     ]
    },
    {
     "data": {
      "text/plain": [
       "['Yasir', 'Hamza', 'Ali']"
      ]
     },
     "execution_count": 139,
     "metadata": {},
     "output_type": "execute_result"
    }
   ],
   "source": [
    "emp_greater25=[]\n",
    "for listt in employees:    \n",
    "    if listt[1]>=22:\n",
    "        emp_greater25.append(listt[0])\n",
    "        #print(listt[0])ArithmeticError\n",
    "    else:\n",
    "        print(listt[0])                            \n",
    "emp_greater25        \n",
    "    "
   ]
  },
  {
   "cell_type": "code",
   "execution_count": 142,
   "metadata": {},
   "outputs": [
    {
     "name": "stdout",
     "output_type": "stream",
     "text": [
      "Username Matched\n",
      "Password Matched\n"
     ]
    }
   ],
   "source": [
    "username=\"SKS\"\n",
    "password=\"123456\"\n",
    "if username==\"SKS\":\n",
    "    print(\"Username Matched\")\n",
    "    if password==\"123456\":\n",
    "        print(\"Password Matched\")\n",
    "    else:\n",
    "        print(\"Incorrect Password\")        \n",
    "else:\n",
    "    print(\"Incorrect Username\")\n",
    "        \n"
   ]
  },
  {
   "cell_type": "code",
   "execution_count": 144,
   "metadata": {},
   "outputs": [
    {
     "name": "stdout",
     "output_type": "stream",
     "text": [
      "Credentials Matched\n"
     ]
    }
   ],
   "source": [
    "if username==\"SKS\" and password==\"123456\":\n",
    "    print(\"Credentials Matched\")\n",
    "else:\n",
    "    print(\"Credentials not Matched\")\n",
    "    \n"
   ]
  },
  {
   "cell_type": "code",
   "execution_count": null,
   "metadata": {},
   "outputs": [],
   "source": []
  },
  {
   "cell_type": "markdown",
   "metadata": {},
   "source": [
    ">85-A\n",
    ">75-B\n",
    ">65-C\n",
    ">50-D\n",
    "<50"
   ]
  },
  {
   "cell_type": "code",
   "execution_count": 147,
   "metadata": {},
   "outputs": [
    {
     "name": "stdout",
     "output_type": "stream",
     "text": [
      "A\n"
     ]
    }
   ],
   "source": [
    "marks=89\n",
    "if marks>=85:\n",
    "    print(\"A\")\n",
    "elif marks>75:\n",
    "    print(\"B\")\n",
    "elif marks>65:\n",
    "    print(\"C\")\n",
    "elif marks>50:\n",
    "    print(\"D\")\n",
    "else:\n",
    "    print(\"F\")\n",
    "    \n",
    "    "
   ]
  },
  {
   "cell_type": "code",
   "execution_count": null,
   "metadata": {},
   "outputs": [],
   "source": []
  },
  {
   "cell_type": "code",
   "execution_count": null,
   "metadata": {},
   "outputs": [],
   "source": []
  },
  {
   "cell_type": "code",
   "execution_count": null,
   "metadata": {},
   "outputs": [],
   "source": []
  },
  {
   "cell_type": "code",
   "execution_count": null,
   "metadata": {},
   "outputs": [],
   "source": []
  },
  {
   "cell_type": "code",
   "execution_count": null,
   "metadata": {},
   "outputs": [],
   "source": []
  },
  {
   "cell_type": "code",
   "execution_count": null,
   "metadata": {},
   "outputs": [],
   "source": []
  }
 ],
 "metadata": {
  "kernelspec": {
   "display_name": "Python 3",
   "language": "python",
   "name": "python3"
  },
  "language_info": {
   "codemirror_mode": {
    "name": "ipython",
    "version": 3
   },
   "file_extension": ".py",
   "mimetype": "text/x-python",
   "name": "python",
   "nbconvert_exporter": "python",
   "pygments_lexer": "ipython3",
   "version": "3.7.4"
  }
 },
 "nbformat": 4,
 "nbformat_minor": 2
}
