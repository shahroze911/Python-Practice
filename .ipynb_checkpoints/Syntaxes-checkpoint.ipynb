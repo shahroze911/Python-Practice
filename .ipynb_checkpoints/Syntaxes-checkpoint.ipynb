{
 "cells": [
  {
   "cell_type": "code",
   "execution_count": null,
   "metadata": {},
   "outputs": [],
   "source": [
    "dir(str)\n",
    "\n",
    "    "
   ]
  },
  {
   "cell_type": "code",
   "execution_count": 2,
   "metadata": {},
   "outputs": [
    {
     "data": {
      "text/plain": [
       "'name = \"Ali Raza\"\\nclassName = \"Artificial Intelligence\"\\nmessage = \"Hello \" + name + \"\\n\" + \"Your application is accepted for \" + className\\nprint(message)\\nmessage = \"Hello {}\\nYour application is accepted for {}\".format(name, className)\\nprint(message)\\nmessage = \"Hello {personName}\\nYour application is accepted for {personClass}\".format(personClass = className, personName = name)\\nprint(message)\\nmessage = \"\"\"Hello {personName}\\nYour application is accepted for {personClass}\"\"\".format(personClass = className, personName = name)\\nprint(message)\\n'"
      ]
     },
     "execution_count": 2,
     "metadata": {},
     "output_type": "execute_result"
    }
   ],
   "source": [
    "\n",
    "name = \"Ali Raza\"\n",
    "className = \"Artificial Intelligence\"\n",
    "message = \"Hello \" + name + \"\\n\" + \"Your application is accepted for \" + className\n",
    "print(message)\n",
    "message = \"Hello {}\\nYour application is accepted for {}\".format(name, className)\n",
    "print(message)\n",
    "message = \"Hello {personName}\\nYour application is accepted for {personClass}\".format(personClass = className, personName = name)\n",
    "print(message)\n",
    "message = \"\"\"Hello {personName}\n",
    "Your application is accepted for {personClass}\"\"\".format(personClass = className, personName = name)\n",
    "print(message)\n"
   ]
  },
  {
   "cell_type": "code",
   "execution_count": null,
   "metadata": {},
   "outputs": [],
   "source": [
    "'''\n",
    "print(\"Hello\")\n",
    "'''"
   ]
  },
  {
   "cell_type": "code",
   "execution_count": 1,
   "metadata": {},
   "outputs": [
    {
     "data": {
      "text/plain": [
       "'\\nThis content is in comment\\nComment\\n'"
      ]
     },
     "execution_count": 1,
     "metadata": {},
     "output_type": "execute_result"
    }
   ],
   "source": [
    "\"\"\"\n",
    "This content is in comment\n",
    "Comment\n",
    "\"\"\""
   ]
  },
  {
   "cell_type": "code",
   "execution_count": null,
   "metadata": {},
   "outputs": [],
   "source": [
    "name=\"SKS\"\n",
    "#dir(name)\n",
    "#Shift+Tab for variable description\n",
    "#name.[Press Tab]-> Available Method Names"
   ]
  }
 ],
 "metadata": {
  "kernelspec": {
   "display_name": "Python 3",
   "language": "python",
   "name": "python3"
  },
  "language_info": {
   "codemirror_mode": {
    "name": "ipython",
    "version": 3
   },
   "file_extension": ".py",
   "mimetype": "text/x-python",
   "name": "python",
   "nbconvert_exporter": "python",
   "pygments_lexer": "ipython3",
   "version": "3.7.4"
  }
 },
 "nbformat": 4,
 "nbformat_minor": 2
}
