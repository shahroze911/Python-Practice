{
 "cells": [
  {
   "cell_type": "code",
   "execution_count": null,
   "metadata": {},
   "outputs": [
    {
     "name": "stdout",
     "output_type": "stream",
     "text": [
      "Enter your First Name: shahroze\n",
      "Enter your Second Name: kamran\n",
      "Enter your Age: 21\n",
      "Enter your Class: fast university\n"
     ]
    }
   ],
   "source": [
    "fname=input(\"Enter your First Name: \")\n",
    "if fname.islower():\n",
    "    fname=fname.capitalize()\n",
    "lname=input(\"Enter your Second Name: \")\n",
    "if lname.islower():\n",
    "    lname=lname.capitalize()    \n",
    "age=int(input(\"Enter your Age: \"))\n",
    "_class=input(\"Enter your Class: \")\n",
    "if _class.islower() :\n",
    "    _class=_class.capitalize()            \n",
    "university=input(\"Enter your University: \")\n",
    "if university.islower():\n",
    "    university=university.upper()\n",
    "message=\"\"\"Hello {_fname} {_lname}\n",
    "Your application is accepted for {__class} in {_university}\"\"\".format(__class=_class,_fname=fname,_university=university,_lname=lname)\n",
    "print(message)\n",
    "\n",
    "\n",
    "\n"
   ]
  },
  {
   "cell_type": "code",
   "execution_count": null,
   "metadata": {},
   "outputs": [],
   "source": [
    "name=\"SKS\"\n",
    "#dir(name)\n",
    "#Shift+Tab for variable description\n",
    "#name.[Press Tab]-> Available Method Names\n",
    "\n",
    "\n",
    "\n",
    "\n"
   ]
  },
  {
   "cell_type": "code",
   "execution_count": null,
   "metadata": {},
   "outputs": [],
   "source": []
  },
  {
   "cell_type": "code",
   "execution_count": null,
   "metadata": {},
   "outputs": [],
   "source": []
  }
 ],
 "metadata": {
  "kernelspec": {
   "display_name": "Python 3",
   "language": "python",
   "name": "python3"
  },
  "language_info": {
   "codemirror_mode": {
    "name": "ipython",
    "version": 3
   },
   "file_extension": ".py",
   "mimetype": "text/x-python",
   "name": "python",
   "nbconvert_exporter": "python",
   "pygments_lexer": "ipython3",
   "version": "3.7.4"
  }
 },
 "nbformat": 4,
 "nbformat_minor": 2
}
